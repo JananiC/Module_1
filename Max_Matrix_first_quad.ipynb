{
  "nbformat": 4,
  "nbformat_minor": 0,
  "metadata": {
    "colab": {
      "provenance": [],
      "authorship_tag": "ABX9TyMDKkqtlOLBIky34WhPWjf0",
      "include_colab_link": true
    },
    "kernelspec": {
      "name": "python3",
      "display_name": "Python 3"
    },
    "language_info": {
      "name": "python"
    }
  },
  "cells": [
    {
      "cell_type": "markdown",
      "metadata": {
        "id": "view-in-github",
        "colab_type": "text"
      },
      "source": [
        "<a href=\"https://colab.research.google.com/github/JananiC/Module_1/blob/main/Max_Matrix_first_quad.ipynb\" target=\"_parent\"><img src=\"https://colab.research.google.com/assets/colab-badge.svg\" alt=\"Open In Colab\"/></a>"
      ]
    },
    {
      "cell_type": "code",
      "execution_count": null,
      "metadata": {
        "id": "c25_kmDvOIzX"
      },
      "outputs": [],
      "source": [
        "def flippingMatrix(matrix):\n",
        "    n = len(matrix) // 2\n",
        "    max_sum = 0\n",
        "    x = []\n",
        "\n",
        "    for i in range(n):\n",
        "        for j in range(n):\n",
        "            print(f\"i: {i}, j: {j}\")\n",
        "            x1 = matrix[i][j]\n",
        "            x2 = matrix[i][2*n-1-j]\n",
        "            x3 = matrix[2*n-1-i][j]\n",
        "            x4 = matrix[2*n-1-i][2*n-1-j]\n",
        "            print(x1)\n",
        "            print(x2)\n",
        "            print(x3)\n",
        "            print(x4)\n",
        "            max_sum1 = max(\n",
        "                matrix[i][j],\n",
        "                matrix[i][2*n-1-j],\n",
        "                matrix[2*n-1-i][j],\n",
        "                matrix[2*n-1-i][2*n-1-j]\n",
        "            )\n",
        "            print(max_sum1)\n",
        "            max_sum += max_sum1\n",
        "\n",
        "\n",
        "    return max_sum\n",
        "\n",
        "matrix_example = [\n",
        "    [112, 42, 83, 119],\n",
        "    [56, 125, 56, 49],\n",
        "    [15, 78, 101, 43],\n",
        "    [62, 98, 114, 108]\n",
        "]\n",
        "\n",
        "# Calling flippingMatrix function with the example matrix\n",
        "max_sum = flippingMatrix(matrix_example)\n",
        "print(\"Maximum sum possible for the example matrix:\", max_sum)"
      ]
    }
  ]
}